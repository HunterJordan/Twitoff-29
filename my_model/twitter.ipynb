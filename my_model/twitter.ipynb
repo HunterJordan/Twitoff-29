{
 "cells": [
  {
   "cell_type": "code",
   "execution_count": null,
   "source": [
    "pickle.dump(log_reg, open('my_model.sav', 'wb'))"
   ],
   "outputs": [],
   "metadata": {}
  }
 ],
 "metadata": {
  "orig_nbformat": 4,
  "language_info": {
   "name": "python"
  }
 },
 "nbformat": 4,
 "nbformat_minor": 2
}